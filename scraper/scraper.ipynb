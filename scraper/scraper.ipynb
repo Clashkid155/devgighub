{
 "cells": [
  {
   "cell_type": "code",
   "execution_count": 1,
   "metadata": {},
   "outputs": [],
   "source": [
    "import requests\n",
    "from bs4 import BeautifulSoup"
   ]
  },
  {
   "cell_type": "code",
   "execution_count": 2,
   "metadata": {},
   "outputs": [],
   "source": [
    "def weworkremotely_jobs():\n",
    "    r = requests.get(\"https://weworkremotely.com/\")\n",
    "    page = BeautifulSoup(r.text, \"html.parser\")\n",
    "    job_section = page.find(\"section\", {\"id\": \"category-2\"})\n",
    "    \n",
    "    jobs = []\n",
    "    for job in job_section.find_all(\"li\", {\"class\": \"feature\"}):\n",
    "        jobs.append({\n",
    "            \"href\": \"https://weworkremotely.com\" + job.find_all(\"a\")[1][\"href\"],\n",
    "            \"company_location\": job.find(\"span\", {\"class\": \"company\"}).text.strip(),\n",
    "            \"role\": job.find(\"span\", {\"class\": \"title\"}).text.strip(),\n",
    "            \"job_type\": job.find_all(\"span\", {\"class\": \"company\"})[1].text.strip(),\n",
    "            \"availability\": job.find(\"span\", {\"class\": \"region company\"}).text.strip()\n",
    "        })\n",
    "    return jobs"
   ]
  },
  {
   "cell_type": "code",
   "execution_count": 3,
   "metadata": {},
   "outputs": [],
   "source": [
    "def weworkremotely_info(href):\n",
    "    r = requests.get(href)\n",
    "    page = BeautifulSoup(r.text, \"html.parser\")\n",
    "    \n",
    "    title = page.find(\"div\", {\"class\": \"listing-header-container\"}).find(\"h1\").text.strip()\n",
    "    tags = [i.text.strip() for i in page.find_all(\"span\", {\"class\": \"listing-tag\"})]\n",
    "    return {\n",
    "        \"title\": title,\n",
    "        \"tags\": tags,\n",
    "        \"href\": href\n",
    "    }"
   ]
  },
  {
   "cell_type": "code",
   "execution_count": null,
   "metadata": {},
   "outputs": [],
   "source": []
  }
 ],
 "metadata": {
  "kernelspec": {
   "display_name": "Python 3",
   "language": "python",
   "name": "python3"
  },
  "language_info": {
   "codemirror_mode": {
    "name": "ipython",
    "version": 3
   },
   "file_extension": ".py",
   "mimetype": "text/x-python",
   "name": "python",
   "nbconvert_exporter": "python",
   "pygments_lexer": "ipython3",
   "version": "3.7.3"
  }
 },
 "nbformat": 4,
 "nbformat_minor": 4
}
