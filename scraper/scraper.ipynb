{
 "cells": [
  {
   "cell_type": "code",
   "execution_count": 1,
   "metadata": {},
   "outputs": [],
   "source": [
    "import json\n",
    "import requests\n",
    "from bs4 import BeautifulSoup"
   ]
  },
  {
   "cell_type": "code",
   "execution_count": 2,
   "metadata": {},
   "outputs": [],
   "source": [
    "def weworkremotely_jobs():\n",
    "    r = requests.get(\"https://weworkremotely.com/\")\n",
    "    page = BeautifulSoup(r.text, \"html.parser\")\n",
    "    job_section = page.find(\"section\", {\"id\": \"category-2\"})\n",
    "    \n",
    "    jobs = []\n",
    "    for job in job_section.find_all(\"li\", {\"class\": \"feature\"}):\n",
    "        jobs.append({\n",
    "            \"href\": \"https://weworkremotely.com\" + job.find_all(\"a\")[1][\"href\"],\n",
    "            \"company\": job.find(\"span\", {\"class\": \"company\"}).text.strip(),\n",
    "            \"role\": job.find(\"span\", {\"class\": \"title\"}).text.strip(),\n",
    "            \"job_type\": job.find_all(\"span\", {\"class\": \"company\"})[1].text.strip(),\n",
    "            \"location\": job.find(\"span\", {\"class\": \"region company\"}).text.strip()\n",
    "        })\n",
    "    return jobs"
   ]
  },
  {
   "cell_type": "code",
   "execution_count": 3,
   "metadata": {},
   "outputs": [],
   "source": [
    "def weworkremotely_info(href):\n",
    "    r = requests.get(href)\n",
    "    page = BeautifulSoup(r.text, \"html.parser\")\n",
    "    \n",
    "    title = page.find(\"div\", {\"class\": \"listing-header-container\"}).find(\"h1\").text.strip()\n",
    "    tags = [i.text.strip() for i in page.find_all(\"span\", {\"class\": \"listing-tag\"})]\n",
    "    return {\n",
    "        \"title\": title,\n",
    "        \"tags\": tags,\n",
    "        \"href\": href\n",
    "    }"
   ]
  },
  {
   "cell_type": "code",
   "execution_count": 4,
   "metadata": {},
   "outputs": [],
   "source": [
    "def remoteok_jobs():\n",
    "    r = requests.get(\"https://remoteok.io/remote-dev-jobs\")\n",
    "    page = BeautifulSoup(r.text, \"html.parser\")\n",
    "    \n",
    "    first_index = str(page).find(\"<thead>\")\n",
    "    second_index = str(page)[first_index + 7:].find(\"<thead>\")\n",
    "    job_section = BeautifulSoup(str(page)[first_index:second_index], \"html.parser\")\n",
    "    \n",
    "    jobs = []\n",
    "    for job in job_section.find_all(\"tr\", {\"class\": \"job\"}):\n",
    "        try:\n",
    "            job_info = json.loads(str(job.find(\"script\"))[35:-9])\n",
    "            jobs.append({\n",
    "                \"href\": \"https://remoteok.io\" + job[\"data-url\"],\n",
    "                \"company\": job_info[\"hiringOrganization\"][\"name\"],\n",
    "                \"role\": job_info[\"title\"],\n",
    "                \"job_type\": job_info[\"employmentType\"],\n",
    "                \"location\": job_info[\"jobLocation\"][\"address\"][\"addressCountry\"],\n",
    "                \"tags\": [i.text.strip() for i in job.find(\"td\", {\"class\": \"tags\"}).find_all(\"h3\")]\n",
    "            })\n",
    "        except:\n",
    "            pass\n",
    "    return jobs"
   ]
  },
  {
   "cell_type": "code",
   "execution_count": 23,
   "metadata": {},
   "outputs": [],
   "source": [
    "def employremotely():\n",
    "    r = requests.get(\"https://www.employremotely.com/jobs\")\n",
    "    page = BeautifulSoup(r.text, \"html.parser\")\n",
    "    \n",
    "    jobs = []\n",
    "    for job in page.find_all(\"div\", {\"class\": \"c-job-card\"}):\n",
    "        jobs.append({\n",
    "            \"href\": \"https://www.employremotely.com\" + job.find(\"span\", {\"class\": \"c-job-card__job-title\"}).find(\"a\")[\"href\"],\n",
    "            \"company\": job.find(\"span\", {\"class\": \"c-job-card__company\"}).text.strip(),\n",
    "            \"role\": job.find(\"span\", {\"class\": \"c-job-card__job-title\"}).find(\"a\").text.strip(),\n",
    "            \"job_type\": job.find(\"span\", {\"class\": \"c-job-card__contract-type\"}).text.strip(),\n",
    "            \"location\": job.find(\"span\", {\"class\": \"c-job-card__location\"}).text.strip()\n",
    "        })\n",
    "    return jobs"
   ]
  },
  {
   "cell_type": "code",
   "execution_count": null,
   "metadata": {},
   "outputs": [],
   "source": [
    "def employremotely_info(href):\n",
    "    r = requests.get(href)\n",
    "    page = BeautifulSoup(r.text, \"html.parser\")"
   ]
  },
  {
   "cell_type": "code",
   "execution_count": 25,
   "metadata": {},
   "outputs": [],
   "source": []
  },
  {
   "cell_type": "code",
   "execution_count": 27,
   "metadata": {},
   "outputs": [
    {
     "data": {
      "text/plain": [
       "'Senior Web Engineer'"
      ]
     },
     "execution_count": 27,
     "metadata": {},
     "output_type": "execute_result"
    }
   ],
   "source": []
  },
  {
   "cell_type": "code",
   "execution_count": 30,
   "metadata": {},
   "outputs": [
    {
     "data": {
      "text/plain": [
       "'⏰ Deadline 27th September 2020'"
      ]
     },
     "execution_count": 30,
     "metadata": {},
     "output_type": "execute_result"
    }
   ],
   "source": [
    "page.find_all(\"span\", {\"class\": \"job-header__detail\"})[-1].text.strip()"
   ]
  },
  {
   "cell_type": "code",
   "execution_count": 33,
   "metadata": {},
   "outputs": [
    {
     "data": {
      "text/plain": [
       "['Java', 'Laravel', 'PHP', 'MySQL']"
      ]
     },
     "execution_count": 33,
     "metadata": {},
     "output_type": "execute_result"
    }
   ],
   "source": [
    "[i.text.strip() for i in page.find(\"section\", {\"class\": \"job-information__tags\"}).find_all(\"span\", {\"class\": \"c-pill\"})]"
   ]
  },
  {
   "cell_type": "code",
   "execution_count": null,
   "metadata": {},
   "outputs": [],
   "source": []
  }
 ],
 "metadata": {
  "kernelspec": {
   "display_name": "Python 3",
   "language": "python",
   "name": "python3"
  },
  "language_info": {
   "codemirror_mode": {
    "name": "ipython",
    "version": 3
   },
   "file_extension": ".py",
   "mimetype": "text/x-python",
   "name": "python",
   "nbconvert_exporter": "python",
   "pygments_lexer": "ipython3",
   "version": "3.7.3"
  }
 },
 "nbformat": 4,
 "nbformat_minor": 4
}
