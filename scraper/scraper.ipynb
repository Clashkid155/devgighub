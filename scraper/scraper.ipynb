{
 "cells": [
  {
   "cell_type": "code",
   "execution_count": 64,
   "metadata": {},
   "outputs": [],
   "source": [
    "import json\n",
    "import requests\n",
    "from bs4 import BeautifulSoup"
   ]
  },
  {
   "cell_type": "code",
   "execution_count": 43,
   "metadata": {},
   "outputs": [],
   "source": [
    "def weworkremotely_jobs():\n",
    "    r = requests.get(\"https://weworkremotely.com/\")\n",
    "    page = BeautifulSoup(r.text, \"html.parser\")\n",
    "    job_section = page.find(\"section\", {\"id\": \"category-2\"})\n",
    "    \n",
    "    jobs = []\n",
    "    for job in job_section.find_all(\"li\", {\"class\": \"feature\"}):\n",
    "        jobs.append({\n",
    "            \"href\": \"https://weworkremotely.com\" + job.find_all(\"a\")[1][\"href\"],\n",
    "            \"company\": job.find(\"span\", {\"class\": \"company\"}).text.strip(),\n",
    "            \"role\": job.find(\"span\", {\"class\": \"title\"}).text.strip(),\n",
    "            \"job_type\": job.find_all(\"span\", {\"class\": \"company\"})[1].text.strip(),\n",
    "            \"availability\": job.find(\"span\", {\"class\": \"region company\"}).text.strip()\n",
    "        })\n",
    "    return jobs"
   ]
  },
  {
   "cell_type": "code",
   "execution_count": 3,
   "metadata": {},
   "outputs": [],
   "source": [
    "def weworkremotely_info(href):\n",
    "    r = requests.get(href)\n",
    "    page = BeautifulSoup(r.text, \"html.parser\")\n",
    "    \n",
    "    title = page.find(\"div\", {\"class\": \"listing-header-container\"}).find(\"h1\").text.strip()\n",
    "    tags = [i.text.strip() for i in page.find_all(\"span\", {\"class\": \"listing-tag\"})]\n",
    "    return {\n",
    "        \"title\": title,\n",
    "        \"tags\": tags,\n",
    "        \"href\": href\n",
    "    }"
   ]
  },
  {
   "cell_type": "code",
   "execution_count": 90,
   "metadata": {},
   "outputs": [],
   "source": [
    "def remoteok_jobs():\n",
    "    r = requests.get(\"https://remoteok.io/remote-dev-jobs\")\n",
    "    page = BeautifulSoup(r.text, \"html.parser\")\n",
    "    \n",
    "    first_index = str(page).find(\"<thead>\")\n",
    "    second_index = str(page)[first_index + 7:].find(\"<thead>\")\n",
    "    job_section = BeautifulSoup(str(page)[first_index:second_index], \"html.parser\")\n",
    "    \n",
    "    jobs = []\n",
    "    for job in job_section.find_all(\"tr\", {\"class\": \"job\"}):\n",
    "        try:\n",
    "            job_info = json.loads(str(job.find(\"script\"))[35:-9])\n",
    "            jobs.append({\n",
    "                \"href\": \"https://remoteok.io\" + job[\"data-url\"],\n",
    "                \"company\": job_info[\"hiringOrganization\"][\"name\"],\n",
    "                \"role\": job_info[\"title\"],\n",
    "                \"job_type\": job_info[\"employmentType\"],\n",
    "                \"availability\": job_info[\"jobLocation\"][\"address\"][\"addressCountry\"],\n",
    "                \"tags\": \n",
    "            })\n",
    "        except:\n",
    "            pass\n",
    "    return jobs"
   ]
  },
  {
   "cell_type": "code",
   "execution_count": 94,
   "metadata": {},
   "outputs": [
    {
     "data": {
      "text/plain": [
       "[]"
      ]
     },
     "execution_count": 94,
     "metadata": {},
     "output_type": "execute_result"
    }
   ],
   "source": [
    "job.find_all(\"div\", {\"class\": \"tags\"})"
   ]
  },
  {
   "cell_type": "code",
   "execution_count": 95,
   "metadata": {},
   "outputs": [
    {
     "data": {
      "text/plain": [
       "<tr class=\"job job-98624 new hot ==\" data-company=\"ShapeShift\" data-epoch=\"1598655694\" data-href=\"/remote-jobs/98624-remote-senior-software-security-engineer-shapeshift\" data-id=\"98624\" data-search=\"ShapeShift Senior Software Security Engineer infosec dev senior engineer digital nomad\" data-stack=\"\" data-url=\"/remote-jobs/98624-remote-senior-software-security-engineer-shapeshift\" id=\"job-98624\" style=\"\t\" title=\"\"><td class=\"image has-logo\"><script type=\"application/ld+json\">{\"@context\":\"http://schema.org\",\"@type\":\"JobPosting\",\"datePosted\":\"2020-08-28T16:01:34-07:00\",\"description\":\"\\nPOSITION OVERVIEW\\n\\nShapeShift is seeking a Senior Software Security Engineer to help identify risks and mitigate them for this growing organization. The Software Security Engineer will be scanning, researching, hacking, and advising developers on security, in addition to altering source code to resolve security vulnerabilities. The ideal candidate will possess a keen understanding of how tweaking one parameter can vastly change the security outcomes of an information system. This position offers a unique opportunity to think with a black hat but wear a white hat for an exciting cryptocurrency startup.\\n\\nThis is a full-time, exempt position that reports directly to the CISO.\\n\\nYour desire to make a real impact on an organization and the world grows by the day. The ideal candidate will be open to daily changes in workflow and protocol (and force us to improve workflows). As a start-up in an evolving space, there are new challenges that require new solutions every day.\\n\\nGOALS OF POSITION\\n\\n\\n* Stay abreast with daily CVE announcements and 0-day vulnerabilities\\n\\n* Provide strong software engineering experience to ShapeShift&rsquo;s Security team.\\n\\n* Work with Site Reliability Engineers and IT administrators to mitigate any vulnerabilities found with ShapeShift's systems.\\n\\n* Provide security guidance and advice to software engineers on best practices for storing, securing, and accessing secrets in their application development.&nbsp;\\n\\n* Participate in architecture design discussions for ShapeShift's upcoming feature enhancements and new products\\/services, ensuring best practices in security are followed in each phase of development, and ensuring security risks are understood and mitigated in the design choices.\\n\\n* Execute and automate approved penetration tests, vulnerability scans, and related intelligence gathering about the existing security posture of development and production systems.\\n\\n* Manage internal TLS Certificate Authority, issuing and revoking internal server and client certificates where necessary.\\n\\n* Collect and organize security-related metrics for reporting to ShapeShift&rsquo;s CISO.\\n\\n* Maintain ShapeShift's existing Information Security Policy, ensuring it is up-to-date with ShapeShift's requirements.&nbsp;\\n\\n* Providing security training to all new staff, and security refreshers to existing staff.\\n\\n* Oversee the provisioning of cryptographic keys and security hardware for new staff.\\n\\n* Can research, understand, and implement security enhancements to ShapeShift systems independently, and communicate changes to management in a timely fashion.\\n\\n\\n\\n\\nSUCCESS METRICS OF POSITION\\n\\n\\n* Concerns and risks are brought to the attention of the CISO in a timely manner\\n\\n* Staff receive your assessments and recommendations on improving\\/maintaining security in a timely manner\\n\\n* Staff are able to rely on you to educate them on security and answer their questions\\n\\n* Ability to contribute security enhancements to ShapeShift&rsquo;s codebase.\\n\\n* Senior Security Engineer is able to meet deadlines independently\\n\\n\\n\\n\\nWHAT YOU BRING TO THE TABLE\\n\\n\\n* \\\"Jack of All Trades\\\" mindset, knowledgeable in many areas\\n\\n* \\\"Geek to English translator\\\" - ability to train\\/teach security concepts to non-security staff in easy-to-understand language\\n\\n* Strong \\\"Google-fu\\\" - ability to quickly find and learn concepts that aren't already known\\n\\n* Knowledge and experience that can be relied upon by others in the Security department\\n\\n* Ability to be flexible while working in a dynamic startup environment\\n\\n* Desire to make the world a better and safer place\\n\\n\\n\\n\\nREQUIRED EDUCATION &amp; EXPERIENCE\\n\\n\\n* 7+ years of full-stack engineering experience or equivalent&nbsp;\\n\\n* Strong competency with Javascript and\\/or TypeScript\\n\\n* Strong competency with modern software development tools (git, jira, IDEs)\\n\\n* Experience performing source code review\\n\\n* Experience resolving application level vulnerabilities\\n\\n* Experience working with GPG \\/ PGP\\n\\n* Experience with TLS, cryptographic certificates and PKI\\n\\n* Experience performing vulnerability scanning (i.e. Metasploit, Nessus, or similar)\\n\\n* Securing and administering services\\/daemons according to best practices\\n\\n* Experience working with Linux and open source technologies\\n\\n* At least 4 years experience in a security-focused role\\n\\n\\n\\n\\nPREFERRED EDUCATION &amp; EXPERIENCE\\n\\n\\n* Experience securing cloud-based service providers, such as DigitalOcean, Azure, and AWS\\n\\n* Experience with deployment automation tools such as CircleCI, Terraform, etc.\\n\\n* Experience with penetration testing\\n\\n* Experience with charting, graphing, and presenting data visually\\n\\n* Experience working with cryptocurrencies and blockchains\\n\\n* Familiarity with Agile Development Methodologies&nbsp;\\n\\n* Familiarity with hardware and firmware security&nbsp;\\n\\n* Security certifications such as: CISSP, CISA, OSCP, Pentest+, Security+ would be an asset\\n\\n* Experience with Open Source Software\\n\\n\\n\\n Apply now and work remotely at ShapeShift\",\t\"baseSalary\":{\t\"@type\": \"MonetaryAmount\",\t\"currency\": \"USD\",\t\"value\": \"82500\",\t\"unitCode\": \"ANN\"\t},\"employmentType\":\"FULL_TIME\",\"industry\":\"Startups\",\"jobLocationType\":\"TELECOMMUTE\",\"jobLocation\":{\"address\":{\"@type\":\"PostalAddress\",\"addressCountry\":\"Anywhere\",\"addressRegion\":\"Anywhere\",\"streetAddress\":\"Anywhere\",\"postalCode\":\"Anywhere\",\"addressLocality\":\"Anywhere\"}},\"title\":\"Senior Software Security Engineer\",\"image\":\"https:\\/\\/remoteok.io\\/assets\\/jobs\\/41095cbc2e9690a9318caeb4afddf557.png\",\"occupationalCategory\":\"\",\"workHours\":\"Flexible\",\"validThrough\":\"2020-09-28T16:01:34-07:00\",\"hiringOrganization\":{\"@type\":\"Organization\",\"name\":\"ShapeShift\",\"sameAs\":null,\"logo\":\"https:\\/\\/remoteok.io\\/assets\\/jobs\\/41095cbc2e9690a9318caeb4afddf557.png\"}}</script><a class=\"preventLink\" href=\"/remote-jobs/98624-remote-senior-software-security-engineer-shapeshift\"><img class=\"logo\" data-extension=\"png\" data-z=\"1\" itemprop=\"image\" src=\"https://remoteok.io/assets/jobs/41095cbc2e9690a9318caeb4afddf557.png?1598656804\"/></a></td><td class=\"company position company_and_position\"><a class=\"preventLink\" href=\"/remote-jobs/98624-remote-senior-software-security-engineer-shapeshift\" itemprop=\"url\"><a class=\"companyLink\" href=\"/remote-companies/shapeshift\" itemprop=\"hiringOrganization\" itemscope=\"\" itemtype=\"http://schema.org/Organization\" target=\"_new\"><h3 itemprop=\"name\">ShapeShift</h3> <img class=\"tooltip\" src=\"/assets/hot.gif\" title=\"This job is getting a relatively high amount of applications currently (10% of viewers applied)\"/></a><br/><h2 itemprop=\"title\">Senior Software Security Engineer</h2></a><span class=\"original tooltip\" title=\"This position is verified to be remote\"><img height=\"16\" src=\"/assets/logo.png?1\" style=\"border-radius:100%;vertical-align:middle;margin-left: 4px;margin-top:-2px;\" width=\"16\"/></span></td><td class=\"company position company_and_position_mobile\"><a class=\"preventLink\" href=\"/remote-jobs/98624-remote-senior-software-security-engineer-shapeshift\" target=\"_new\"><h2>Senior Software Security Engineer\t <img class=\"tooltip\" src=\"/assets/hot.gif\" title=\"This job is getting a relatively high amount of applications currently (10% of viewers applied)\"/></h2></a><br/><a class=\"preventLink\" href=\"/remote-companies/shapeshift\" target=\"_new\"><h3>ShapeShift</h3></a><br/><a class=\"no-border tooltip-set\" data-tooltip=\"Add tag to filters\" href=\"/remote-dev+infosec-jobs\"><div class=\"tag tag-infosec\" rel=\"follow\"><h3>infosec</h3></div></a><a class=\"no-border tooltip-set\"><div class=\"tag tag-dev\" rel=\"follow\"><h3>dev</h3></div></a><a class=\"no-border tooltip-set\" data-tooltip=\"Add tag to filters\" href=\"/remote-dev+senior-jobs\"><div class=\"tag tag-senior\" rel=\"follow\"><h3>senior</h3></div></a><a class=\"no-border tooltip-set\" data-tooltip=\"Add tag to filters\" href=\"/remote-dev+engineer-jobs\"><div class=\"tag tag-engineer\" rel=\"follow\"><h3>engineer</h3></div></a></td><td class=\"tags\"><a class=\"no-border tooltip-set\" data-tooltip=\"Add tag to filters\" href=\"/remote-dev+infosec-jobs\"><div class=\"tag tag-infosec\" rel=\"follow\"><h3>infosec</h3></div></a><a class=\"no-border tooltip-set\"><div class=\"tag tag-dev\" rel=\"follow\"><h3>dev</h3></div></a><a class=\"no-border tooltip-set\" data-tooltip=\"Add tag to filters\" href=\"/remote-dev+senior-jobs\"><div class=\"tag tag-senior\" rel=\"follow\"><h3>senior</h3></div></a><a class=\"no-border tooltip-set\" data-tooltip=\"Add tag to filters\" href=\"/remote-dev+engineer-jobs\"><div class=\"tag tag-engineer\" rel=\"follow\"><h3>engineer</h3></div></a></td><td class=\"time\"><a href=\"/remote-jobs/98624-remote-senior-software-security-engineer-shapeshift\" target=\"_new\"><time datetime=\"2020-08-28T16:01:34-07:00\">3h</time></a></td></tr>"
      ]
     },
     "execution_count": 95,
     "metadata": {},
     "output_type": "execute_result"
    }
   ],
   "source": [
    "job"
   ]
  },
  {
   "cell_type": "code",
   "execution_count": null,
   "metadata": {},
   "outputs": [],
   "source": []
  }
 ],
 "metadata": {
  "kernelspec": {
   "display_name": "Python 3",
   "language": "python",
   "name": "python3"
  },
  "language_info": {
   "codemirror_mode": {
    "name": "ipython",
    "version": 3
   },
   "file_extension": ".py",
   "mimetype": "text/x-python",
   "name": "python",
   "nbconvert_exporter": "python",
   "pygments_lexer": "ipython3",
   "version": "3.7.3"
  }
 },
 "nbformat": 4,
 "nbformat_minor": 4
}
